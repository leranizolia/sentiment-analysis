{
  "nbformat": 4,
  "nbformat_minor": 0,
  "metadata": {
    "colab": {
      "name": "Sentiments_analysis_not_full.ipynb",
      "provenance": [],
      "collapsed_sections": [],
      "machine_shape": "hm"
    },
    "kernelspec": {
      "name": "python3",
      "display_name": "Python 3"
    },
    "accelerator": "GPU",
    "widgets": {
      "application/vnd.jupyter.widget-state+json": {
        "cb3426f403654ebd9c2b7b69981da3a5": {
          "model_module": "@jupyter-widgets/controls",
          "model_name": "HBoxModel",
          "state": {
            "_view_name": "HBoxView",
            "_dom_classes": [],
            "_model_name": "HBoxModel",
            "_view_module": "@jupyter-widgets/controls",
            "_model_module_version": "1.5.0",
            "_view_count": null,
            "_view_module_version": "1.5.0",
            "box_style": "",
            "layout": "IPY_MODEL_124f92bb250e49d6b3af62b6347d1212",
            "_model_module": "@jupyter-widgets/controls",
            "children": [
              "IPY_MODEL_0ff559b8e60b4eaaaaf7a67ef98b112b",
              "IPY_MODEL_8a5d575760dd42fbb80fe284d9f91ec8"
            ]
          }
        },
        "124f92bb250e49d6b3af62b6347d1212": {
          "model_module": "@jupyter-widgets/base",
          "model_name": "LayoutModel",
          "state": {
            "_view_name": "LayoutView",
            "grid_template_rows": null,
            "right": null,
            "justify_content": null,
            "_view_module": "@jupyter-widgets/base",
            "overflow": null,
            "_model_module_version": "1.2.0",
            "_view_count": null,
            "flex_flow": null,
            "width": null,
            "min_width": null,
            "border": null,
            "align_items": null,
            "bottom": null,
            "_model_module": "@jupyter-widgets/base",
            "top": null,
            "grid_column": null,
            "overflow_y": null,
            "overflow_x": null,
            "grid_auto_flow": null,
            "grid_area": null,
            "grid_template_columns": null,
            "flex": null,
            "_model_name": "LayoutModel",
            "justify_items": null,
            "grid_row": null,
            "max_height": null,
            "align_content": null,
            "visibility": null,
            "align_self": null,
            "height": null,
            "min_height": null,
            "padding": null,
            "grid_auto_rows": null,
            "grid_gap": null,
            "max_width": null,
            "order": null,
            "_view_module_version": "1.2.0",
            "grid_template_areas": null,
            "object_position": null,
            "object_fit": null,
            "grid_auto_columns": null,
            "margin": null,
            "display": null,
            "left": null
          }
        },
        "0ff559b8e60b4eaaaaf7a67ef98b112b": {
          "model_module": "@jupyter-widgets/controls",
          "model_name": "IntProgressModel",
          "state": {
            "_view_name": "ProgressView",
            "style": "IPY_MODEL_4810c87c8d754e838d229f0f74bef5d4",
            "_dom_classes": [],
            "description": "",
            "_model_name": "IntProgressModel",
            "bar_style": "success",
            "max": 1,
            "_view_module": "@jupyter-widgets/controls",
            "_model_module_version": "1.5.0",
            "value": 1,
            "_view_count": null,
            "_view_module_version": "1.5.0",
            "orientation": "horizontal",
            "min": 0,
            "description_tooltip": null,
            "_model_module": "@jupyter-widgets/controls",
            "layout": "IPY_MODEL_0b37f6dc6d1f4bb18307afafb28fce2b"
          }
        },
        "8a5d575760dd42fbb80fe284d9f91ec8": {
          "model_module": "@jupyter-widgets/controls",
          "model_name": "HTMLModel",
          "state": {
            "_view_name": "HTMLView",
            "style": "IPY_MODEL_a7e0c8d911ea495783b3cec31c7230ca",
            "_dom_classes": [],
            "description": "",
            "_model_name": "HTMLModel",
            "placeholder": "​",
            "_view_module": "@jupyter-widgets/controls",
            "_model_module_version": "1.5.0",
            "value": "1917495it [01:57, 16296.25it/s]",
            "_view_count": null,
            "_view_module_version": "1.5.0",
            "description_tooltip": null,
            "_model_module": "@jupyter-widgets/controls",
            "layout": "IPY_MODEL_9b2b6338ce9b4029bef6d5fb481d8bb2"
          }
        },
        "4810c87c8d754e838d229f0f74bef5d4": {
          "model_module": "@jupyter-widgets/controls",
          "model_name": "ProgressStyleModel",
          "state": {
            "_view_name": "StyleView",
            "_model_name": "ProgressStyleModel",
            "description_width": "",
            "_view_module": "@jupyter-widgets/base",
            "_model_module_version": "1.5.0",
            "_view_count": null,
            "_view_module_version": "1.2.0",
            "bar_color": null,
            "_model_module": "@jupyter-widgets/controls"
          }
        },
        "0b37f6dc6d1f4bb18307afafb28fce2b": {
          "model_module": "@jupyter-widgets/base",
          "model_name": "LayoutModel",
          "state": {
            "_view_name": "LayoutView",
            "grid_template_rows": null,
            "right": null,
            "justify_content": null,
            "_view_module": "@jupyter-widgets/base",
            "overflow": null,
            "_model_module_version": "1.2.0",
            "_view_count": null,
            "flex_flow": null,
            "width": null,
            "min_width": null,
            "border": null,
            "align_items": null,
            "bottom": null,
            "_model_module": "@jupyter-widgets/base",
            "top": null,
            "grid_column": null,
            "overflow_y": null,
            "overflow_x": null,
            "grid_auto_flow": null,
            "grid_area": null,
            "grid_template_columns": null,
            "flex": null,
            "_model_name": "LayoutModel",
            "justify_items": null,
            "grid_row": null,
            "max_height": null,
            "align_content": null,
            "visibility": null,
            "align_self": null,
            "height": null,
            "min_height": null,
            "padding": null,
            "grid_auto_rows": null,
            "grid_gap": null,
            "max_width": null,
            "order": null,
            "_view_module_version": "1.2.0",
            "grid_template_areas": null,
            "object_position": null,
            "object_fit": null,
            "grid_auto_columns": null,
            "margin": null,
            "display": null,
            "left": null
          }
        },
        "a7e0c8d911ea495783b3cec31c7230ca": {
          "model_module": "@jupyter-widgets/controls",
          "model_name": "DescriptionStyleModel",
          "state": {
            "_view_name": "StyleView",
            "_model_name": "DescriptionStyleModel",
            "description_width": "",
            "_view_module": "@jupyter-widgets/base",
            "_model_module_version": "1.5.0",
            "_view_count": null,
            "_view_module_version": "1.2.0",
            "_model_module": "@jupyter-widgets/controls"
          }
        },
        "9b2b6338ce9b4029bef6d5fb481d8bb2": {
          "model_module": "@jupyter-widgets/base",
          "model_name": "LayoutModel",
          "state": {
            "_view_name": "LayoutView",
            "grid_template_rows": null,
            "right": null,
            "justify_content": null,
            "_view_module": "@jupyter-widgets/base",
            "overflow": null,
            "_model_module_version": "1.2.0",
            "_view_count": null,
            "flex_flow": null,
            "width": null,
            "min_width": null,
            "border": null,
            "align_items": null,
            "bottom": null,
            "_model_module": "@jupyter-widgets/base",
            "top": null,
            "grid_column": null,
            "overflow_y": null,
            "overflow_x": null,
            "grid_auto_flow": null,
            "grid_area": null,
            "grid_template_columns": null,
            "flex": null,
            "_model_name": "LayoutModel",
            "justify_items": null,
            "grid_row": null,
            "max_height": null,
            "align_content": null,
            "visibility": null,
            "align_self": null,
            "height": null,
            "min_height": null,
            "padding": null,
            "grid_auto_rows": null,
            "grid_gap": null,
            "max_width": null,
            "order": null,
            "_view_module_version": "1.2.0",
            "grid_template_areas": null,
            "object_position": null,
            "object_fit": null,
            "grid_auto_columns": null,
            "margin": null,
            "display": null,
            "left": null
          }
        }
      }
    }
  },
  "cells": [
    {
      "cell_type": "code",
      "metadata": {
        "id": "CLzeLjeugxxQ",
        "colab": {
          "base_uri": "https://localhost:8080/",
          "height": 243
        },
        "outputId": "5ffea4a6-0ed8-4e5a-f48b-75678ba8df49"
      },
      "source": [
        "#ячейка, которая даёт доступ к датасетам соревнований на kaggle (при необходимости надо ещё сделать !pip install kaggle)\n",
        "import os\n",
        "os.environ[\"KAGGLE_USERNAME\"]=\"valeriianizolia\"\n",
        "os.environ['KAGGLE_KEY']='cac25c733910006ce9e1cef86202110f'\n",
        "!kaggle competitions download -c iad-deep-learning-sentiment"
      ],
      "execution_count": null,
      "outputs": [
        {
          "output_type": "stream",
          "text": [
            "Warning: Looks like you're using an outdated API Version, please consider updating (server 1.5.6 / client 1.5.4)\n",
            "Downloading y_train.csv.zip to /content\n",
            "  0% 0.00/8.37M [00:00<?, ?B/s]\n",
            "100% 8.37M/8.37M [00:00<00:00, 139MB/s]\n",
            "Downloading random_prediction.csv.zip to /content\n",
            "  0% 0.00/2.08M [00:00<?, ?B/s]\n",
            "100% 2.08M/2.08M [00:00<00:00, 140MB/s]\n",
            "Downloading x_train.txt.zip to /content\n",
            " 96% 569M/595M [00:11<00:01, 24.3MB/s]\n",
            "100% 595M/595M [00:11<00:00, 53.7MB/s]\n",
            "Downloading x_test.txt.zip to /content\n",
            " 96% 65.0M/68.0M [00:01<00:00, 35.4MB/s]\n",
            "100% 68.0M/68.0M [00:01<00:00, 42.8MB/s]\n"
          ],
          "name": "stdout"
        }
      ]
    },
    {
      "cell_type": "code",
      "metadata": {
        "id": "Sw4Ikci09Anp",
        "colab": {
          "base_uri": "https://localhost:8080/",
          "height": 243
        },
        "outputId": "5c71dc67-894b-44d3-9448-39d211fd181c"
      },
      "source": [
        "!unzip \\*.zip"
      ],
      "execution_count": null,
      "outputs": [
        {
          "output_type": "stream",
          "text": [
            "Archive:  y_train.csv.zip\n",
            "  inflating: y_train.csv             \n",
            "\n",
            "Archive:  x_test.txt.zip\n",
            "  inflating: x_test.txt              \n",
            "\n",
            "Archive:  random_prediction.csv.zip\n",
            "  inflating: random_prediction.csv   \n",
            "\n",
            "Archive:  x_train.txt.zip\n",
            "  inflating: x_train.txt             \n",
            "\n",
            "4 archives were successfully processed.\n"
          ],
          "name": "stdout"
        }
      ]
    },
    {
      "cell_type": "code",
      "metadata": {
        "id": "Y9bHnBxF9Wws"
      },
      "source": [
        "#для очистки памяти\n",
        "os.remove(\"x_test.txt.zip\")\n",
        "os.remove(\"x_train.txt.zip\")\n",
        "os.remove(\"y_train.csv.zip\")\n",
        "os.remove(\"random_prediction.csv.zip\")"
      ],
      "execution_count": null,
      "outputs": []
    },
    {
      "cell_type": "code",
      "metadata": {
        "id": "_3KhdKfgjLua"
      },
      "source": [
        "import pandas as pd\n",
        "random_prediction = pd.read_csv(\"random_prediction.csv\")\n",
        "y_train = pd.read_csv(\"y_train.csv\")\n",
        "x_train = pd.read_fwf('x_train.txt', header=None)\n",
        "x_train.to_csv(\"x_train.csv\")\n",
        "x_test = pd.read_fwf('x_test.txt', header=None)\n",
        "x_test.to_csv(\"x_test.csv\")"
      ],
      "execution_count": null,
      "outputs": []
    },
    {
      "cell_type": "code",
      "metadata": {
        "id": "YAbLWYNc-YjA"
      },
      "source": [
        "os.remove(\"x_train.txt\")\n",
        "os.remove(\"x_test.txt\")"
      ],
      "execution_count": null,
      "outputs": []
    },
    {
      "cell_type": "code",
      "metadata": {
        "id": "ayLNYIUc-4MA"
      },
      "source": [
        "def delete_punctuation(x):\n",
        "    punctuation = list(string.punctuation)\n",
        "    return ''.join([a if a not in punctuation + ['\\n'] else ' ' for a in x])"
      ],
      "execution_count": null,
      "outputs": []
    },
    {
      "cell_type": "code",
      "metadata": {
        "id": "Zx3yRZ_Unq04",
        "colab": {
          "base_uri": "https://localhost:8080/",
          "height": 202
        },
        "outputId": "05d82071-1747-4088-81af-1d1931d5d56e"
      },
      "source": [
        "#можно заметить, что отзывы содержат главную мысль до \":\", более того, на kaggle появляется проблема с нехваткой места на RAM, которую можно решить, обрезав отызывы до двоеточия\n",
        "new_review = x_train.apply(lambda x: x[0][:x[0].find(\":\")], axis=1)\n",
        "x_train['new_review'] = new_review\n",
        "x_train.head()"
      ],
      "execution_count": null,
      "outputs": [
        {
          "output_type": "execute_result",
          "data": {
            "text/html": [
              "<div>\n",
              "<style scoped>\n",
              "    .dataframe tbody tr th:only-of-type {\n",
              "        vertical-align: middle;\n",
              "    }\n",
              "\n",
              "    .dataframe tbody tr th {\n",
              "        vertical-align: top;\n",
              "    }\n",
              "\n",
              "    .dataframe thead th {\n",
              "        text-align: right;\n",
              "    }\n",
              "</style>\n",
              "<table border=\"1\" class=\"dataframe\">\n",
              "  <thead>\n",
              "    <tr style=\"text-align: right;\">\n",
              "      <th></th>\n",
              "      <th>0</th>\n",
              "      <th>1</th>\n",
              "      <th>new_review</th>\n",
              "    </tr>\n",
              "  </thead>\n",
              "  <tbody>\n",
              "    <tr>\n",
              "      <th>0</th>\n",
              "      <td>Stuning even for the non-gamer: This sound tra...</td>\n",
              "      <td>NaN</td>\n",
              "      <td>Stuning even for the non-gamer</td>\n",
              "    </tr>\n",
              "    <tr>\n",
              "      <th>1</th>\n",
              "      <td>The best soundtrack ever to anything.: I'm rea...</td>\n",
              "      <td>NaN</td>\n",
              "      <td>The best soundtrack ever to anything.</td>\n",
              "    </tr>\n",
              "    <tr>\n",
              "      <th>2</th>\n",
              "      <td>Amazing!: This soundtrack is my favorite music...</td>\n",
              "      <td>NaN</td>\n",
              "      <td>Amazing!</td>\n",
              "    </tr>\n",
              "    <tr>\n",
              "      <th>3</th>\n",
              "      <td>Excellent Soundtrack: I truly like this soundt...</td>\n",
              "      <td>NaN</td>\n",
              "      <td>Excellent Soundtrack</td>\n",
              "    </tr>\n",
              "    <tr>\n",
              "      <th>4</th>\n",
              "      <td>Remember, Pull Your Jaw Off The Floor After He...</td>\n",
              "      <td>NaN</td>\n",
              "      <td>Remember, Pull Your Jaw Off The Floor After He...</td>\n",
              "    </tr>\n",
              "  </tbody>\n",
              "</table>\n",
              "</div>"
            ],
            "text/plain": [
              "                                                   0  ...                                         new_review\n",
              "0  Stuning even for the non-gamer: This sound tra...  ...                     Stuning even for the non-gamer\n",
              "1  The best soundtrack ever to anything.: I'm rea...  ...              The best soundtrack ever to anything.\n",
              "2  Amazing!: This soundtrack is my favorite music...  ...                                           Amazing!\n",
              "3  Excellent Soundtrack: I truly like this soundt...  ...                               Excellent Soundtrack\n",
              "4  Remember, Pull Your Jaw Off The Floor After He...  ...  Remember, Pull Your Jaw Off The Floor After He...\n",
              "\n",
              "[5 rows x 3 columns]"
            ]
          },
          "metadata": {
            "tags": []
          },
          "execution_count": 7
        }
      ]
    },
    {
      "cell_type": "code",
      "metadata": {
        "id": "IXE0KUIQusGO",
        "colab": {
          "base_uri": "https://localhost:8080/",
          "height": 202
        },
        "outputId": "45bcba41-0165-4e1f-d664-6a71d27da754"
      },
      "source": [
        "new_review = x_test.apply(lambda x: x[0][:x[0].find(\":\")], axis=1)\n",
        "x_test['new_review'] = new_review\n",
        "x_test.head()"
      ],
      "execution_count": null,
      "outputs": [
        {
          "output_type": "execute_result",
          "data": {
            "text/html": [
              "<div>\n",
              "<style scoped>\n",
              "    .dataframe tbody tr th:only-of-type {\n",
              "        vertical-align: middle;\n",
              "    }\n",
              "\n",
              "    .dataframe tbody tr th {\n",
              "        vertical-align: top;\n",
              "    }\n",
              "\n",
              "    .dataframe thead th {\n",
              "        text-align: right;\n",
              "    }\n",
              "</style>\n",
              "<table border=\"1\" class=\"dataframe\">\n",
              "  <thead>\n",
              "    <tr style=\"text-align: right;\">\n",
              "      <th></th>\n",
              "      <th>0</th>\n",
              "      <th>new_review</th>\n",
              "    </tr>\n",
              "  </thead>\n",
              "  <tbody>\n",
              "    <tr>\n",
              "      <th>0</th>\n",
              "      <td>Great CD: My lovely Pat has one of the GREAT v...</td>\n",
              "      <td>Great CD</td>\n",
              "    </tr>\n",
              "    <tr>\n",
              "      <th>1</th>\n",
              "      <td>One of the best game music soundtracks - for a...</td>\n",
              "      <td>One of the best game music soundtracks - for a...</td>\n",
              "    </tr>\n",
              "    <tr>\n",
              "      <th>2</th>\n",
              "      <td>Batteries died within a year ...: I bought thi...</td>\n",
              "      <td>Batteries died within a year ...</td>\n",
              "    </tr>\n",
              "    <tr>\n",
              "      <th>3</th>\n",
              "      <td>works fine, but Maha Energy is better: Check o...</td>\n",
              "      <td>works fine, but Maha Energy is better</td>\n",
              "    </tr>\n",
              "    <tr>\n",
              "      <th>4</th>\n",
              "      <td>Great for the non-audiophile: Reviewed quite a...</td>\n",
              "      <td>Great for the non-audiophile</td>\n",
              "    </tr>\n",
              "  </tbody>\n",
              "</table>\n",
              "</div>"
            ],
            "text/plain": [
              "                                                   0                                         new_review\n",
              "0  Great CD: My lovely Pat has one of the GREAT v...                                           Great CD\n",
              "1  One of the best game music soundtracks - for a...  One of the best game music soundtracks - for a...\n",
              "2  Batteries died within a year ...: I bought thi...                   Batteries died within a year ...\n",
              "3  works fine, but Maha Energy is better: Check o...              works fine, but Maha Energy is better\n",
              "4  Great for the non-audiophile: Reviewed quite a...                       Great for the non-audiophile"
            ]
          },
          "metadata": {
            "tags": []
          },
          "execution_count": 8
        }
      ]
    },
    {
      "cell_type": "code",
      "metadata": {
        "id": "1vnn0U5MuJvi",
        "colab": {
          "base_uri": "https://localhost:8080/",
          "height": 225
        },
        "outputId": "afc9fe6d-8ac0-437a-ca5e-099f20644c76"
      },
      "source": [
        "del x_train[0], x_train[1]\n",
        "x_train[\"new_review\"]"
      ],
      "execution_count": null,
      "outputs": [
        {
          "output_type": "execute_result",
          "data": {
            "text/plain": [
              "0                             Stuning even for the non-gamer\n",
              "1                      The best soundtrack ever to anything.\n",
              "2                                                   Amazing!\n",
              "3                                       Excellent Soundtrack\n",
              "4          Remember, Pull Your Jaw Off The Floor After He...\n",
              "                                 ...                        \n",
              "3599995                                        Don't do it!!\n",
              "3599996                        Looks nice, low functionality\n",
              "3599997                           compact, but hard to clean\n",
              "3599998                                   what is it saying?\n",
              "3599999                Makes My Blood Run Red-White-And-Blue\n",
              "Name: new_review, Length: 3600000, dtype: object"
            ]
          },
          "metadata": {
            "tags": []
          },
          "execution_count": 9
        }
      ]
    },
    {
      "cell_type": "code",
      "metadata": {
        "id": "RR6Goi7IvAev"
      },
      "source": [
        "del x_test[0]"
      ],
      "execution_count": null,
      "outputs": []
    },
    {
      "cell_type": "code",
      "metadata": {
        "id": "sLJQqc6m1Qni"
      },
      "source": [
        "import string\n",
        "#обработка из семинара\n",
        "# приведение всех слов к нижнему регистру\n",
        "x_train[\"new_review\"] = x_train[\"new_review\"].apply(lambda x: x.lower())\n",
        "x_test[\"new_review\"] = x_test[\"new_review\"].apply(lambda x: x.lower())\n",
        "# удаление пунктуации\n",
        "x_train[\"new_review\"] = x_train[\"new_review\"].apply(delete_punctuation)\n",
        "x_test[\"new_review\"] = x_test[\"new_review\"].apply(delete_punctuation)"
      ],
      "execution_count": null,
      "outputs": []
    },
    {
      "cell_type": "code",
      "metadata": {
        "id": "IEuObC0P2M3w",
        "colab": {
          "base_uri": "https://localhost:8080/",
          "height": 364
        },
        "outputId": "533b9ab2-4f42-4725-b683-783fd8a0e5b9"
      },
      "source": [
        "!wget http://nlp.stanford.edu/data/wordvecs/glove.42B.300d.zip"
      ],
      "execution_count": null,
      "outputs": [
        {
          "output_type": "stream",
          "text": [
            "--2019-12-22 18:53:38--  http://nlp.stanford.edu/data/wordvecs/glove.42B.300d.zip\n",
            "Resolving nlp.stanford.edu (nlp.stanford.edu)... 171.64.67.140\n",
            "Connecting to nlp.stanford.edu (nlp.stanford.edu)|171.64.67.140|:80... connected.\n",
            "HTTP request sent, awaiting response... 302 Found\n",
            "Location: https://nlp.stanford.edu/data/wordvecs/glove.42B.300d.zip [following]\n",
            "--2019-12-22 18:53:39--  https://nlp.stanford.edu/data/wordvecs/glove.42B.300d.zip\n",
            "Connecting to nlp.stanford.edu (nlp.stanford.edu)|171.64.67.140|:443... connected.\n",
            "HTTP request sent, awaiting response... 301 Moved Permanently\n",
            "Location: http://downloads.cs.stanford.edu/nlp/data/wordvecs/glove.42B.300d.zip [following]\n",
            "--2019-12-22 18:53:39--  http://downloads.cs.stanford.edu/nlp/data/wordvecs/glove.42B.300d.zip\n",
            "Resolving downloads.cs.stanford.edu (downloads.cs.stanford.edu)... 171.64.64.22\n",
            "Connecting to downloads.cs.stanford.edu (downloads.cs.stanford.edu)|171.64.64.22|:80... connected.\n",
            "HTTP request sent, awaiting response... 200 OK\n",
            "Length: 1877802108 (1.7G) [application/zip]\n",
            "Saving to: ‘glove.42B.300d.zip’\n",
            "\n",
            "glove.42B.300d.zip  100%[===================>]   1.75G  2.16MB/s    in 14m 34s \n",
            "\n",
            "2019-12-22 19:08:13 (2.05 MB/s) - ‘glove.42B.300d.zip’ saved [1877802108/1877802108]\n",
            "\n"
          ],
          "name": "stdout"
        }
      ]
    },
    {
      "cell_type": "code",
      "metadata": {
        "id": "3YIHY0J22PiV",
        "colab": {
          "base_uri": "https://localhost:8080/",
          "height": 81
        },
        "outputId": "afb3e960-4bfe-44a1-ff9e-f663cdb1df57"
      },
      "source": [
        "from keras.layers import Dense, Input, GRU, Embedding, Dropout, Bidirectional\n",
        "from keras.models import Model, Sequential\n",
        "from keras.optimizers import Adam\n",
        "from keras.preprocessing.text import Tokenizer\n",
        "from keras.preprocessing.sequence import pad_sequences\n",
        "from keras.callbacks import EarlyStopping, ReduceLROnPlateau, ModelCheckpoint, LearningRateScheduler\n",
        "from tqdm import tqdm_notebook"
      ],
      "execution_count": null,
      "outputs": [
        {
          "output_type": "stream",
          "text": [
            "Using TensorFlow backend.\n"
          ],
          "name": "stderr"
        },
        {
          "output_type": "display_data",
          "data": {
            "text/html": [
              "<p style=\"color: red;\">\n",
              "The default version of TensorFlow in Colab will soon switch to TensorFlow 2.x.<br>\n",
              "We recommend you <a href=\"https://www.tensorflow.org/guide/migrate\" target=\"_blank\">upgrade</a> now \n",
              "or ensure your notebook will continue to use TensorFlow 1.x via the <code>%tensorflow_version 1.x</code> magic:\n",
              "<a href=\"https://colab.research.google.com/notebooks/tensorflow_version.ipynb\" target=\"_blank\">more info</a>.</p>\n"
            ],
            "text/plain": [
              "<IPython.core.display.HTML object>"
            ]
          },
          "metadata": {
            "tags": []
          }
        }
      ]
    },
    {
      "cell_type": "code",
      "metadata": {
        "id": "tqqj9wGB2UkV"
      },
      "source": [
        "import os, zipfile\n",
        "file_name = os.path.abspath('./glove.42B.300d.zip') # get full path of files\n",
        "zip_ref = zipfile.ZipFile(file_name) # create zipfile object\n",
        "zip_ref.extractall('./') # extract file to dir\n",
        "zip_ref.close() # close file\n",
        "os.remove(file_name) # delete zipped file"
      ],
      "execution_count": null,
      "outputs": []
    },
    {
      "cell_type": "code",
      "metadata": {
        "id": "A4X8tR4m2bE6",
        "colab": {
          "base_uri": "https://localhost:8080/",
          "height": 67,
          "referenced_widgets": [
            "cb3426f403654ebd9c2b7b69981da3a5",
            "124f92bb250e49d6b3af62b6347d1212",
            "0ff559b8e60b4eaaaaf7a67ef98b112b",
            "8a5d575760dd42fbb80fe284d9f91ec8",
            "4810c87c8d754e838d229f0f74bef5d4",
            "0b37f6dc6d1f4bb18307afafb28fce2b",
            "a7e0c8d911ea495783b3cec31c7230ca",
            "9b2b6338ce9b4029bef6d5fb481d8bb2"
          ]
        },
        "outputId": "2e9ddf44-0a9e-4e1a-c382-37ea878acac6"
      },
      "source": [
        "import numpy as np\n",
        "f = open('./glove.42B.300d.txt')\n",
        "\n",
        "embeddings_index = dict() \n",
        "for line in tqdm_notebook(f):\n",
        "    values = line.split(' ')\n",
        "    word = values[0]\n",
        "    coefs = np.asarray(values[1:], dtype='float32')\n",
        "    embeddings_index[word] = coefs\n",
        "f.close()"
      ],
      "execution_count": null,
      "outputs": [
        {
          "output_type": "display_data",
          "data": {
            "application/vnd.jupyter.widget-view+json": {
              "model_id": "cb3426f403654ebd9c2b7b69981da3a5",
              "version_minor": 0,
              "version_major": 2
            },
            "text/plain": [
              "HBox(children=(IntProgress(value=1, bar_style='info', max=1), HTML(value='')))"
            ]
          },
          "metadata": {
            "tags": []
          }
        },
        {
          "output_type": "stream",
          "text": [
            "\n"
          ],
          "name": "stdout"
        }
      ]
    },
    {
      "cell_type": "code",
      "metadata": {
        "id": "Mi5sap3-KDu1"
      },
      "source": [
        "os.remove(\"glove.42B.300d.txt\")"
      ],
      "execution_count": null,
      "outputs": []
    },
    {
      "cell_type": "code",
      "metadata": {
        "id": "fcqWnVTtKXIc"
      },
      "source": [
        "os.remove(\"random_prediction.csv\")"
      ],
      "execution_count": null,
      "outputs": []
    },
    {
      "cell_type": "code",
      "metadata": {
        "id": "cXBWbQ7p2gXf"
      },
      "source": [
        "embed_size = 300 # how big is each word vector\n",
        "max_features = 10000 # how many unique words to use (i.e num rows in embedding vector)\n",
        "maxlen = 20 # max number of words in a comment to use (приблизительная максимальная длина отзывов теперь 20 слов)\n",
        "\n",
        "list_sentences_train = x_train[\"new_review\"].values\n",
        "y = y_train[\"Probability\"].values\n",
        "list_sentences_test = x_test[\"new_review\"].values\n",
        "\n",
        "tokenizer = Tokenizer(num_words=max_features)\n",
        "tokenizer.fit_on_texts(list(list_sentences_train))\n",
        "list_tokenized_train = tokenizer.texts_to_sequences(list_sentences_train)\n",
        "list_tokenized_test = tokenizer.texts_to_sequences(list_sentences_test)\n",
        "x_train_pad = pad_sequences(list_tokenized_train, maxlen=maxlen)\n",
        "x_test_pad = pad_sequences(list_tokenized_test, maxlen=maxlen)"
      ],
      "execution_count": null,
      "outputs": []
    },
    {
      "cell_type": "code",
      "metadata": {
        "id": "WkdzGbfjM88M"
      },
      "source": [
        "os.remove(\"x_train.csv\")\n",
        "os.remove(\"y_train.csv\")\n",
        "os.remove(\"x_test.csv\")"
      ],
      "execution_count": null,
      "outputs": []
    },
    {
      "cell_type": "code",
      "metadata": {
        "id": "m1LblgrE40tk",
        "colab": {
          "base_uri": "https://localhost:8080/",
          "height": 89
        },
        "outputId": "2a84c57a-ad67-41d2-b84f-89ea3ec98ed2"
      },
      "source": [
        "all_embs = np.stack(embeddings_index.values())\n",
        "emb_mean, emb_std = all_embs.mean(), all_embs.std()\n",
        "emb_mean, emb_std"
      ],
      "execution_count": null,
      "outputs": [
        {
          "output_type": "stream",
          "text": [
            "/usr/local/lib/python3.6/dist-packages/IPython/core/interactiveshell.py:2822: FutureWarning: arrays to stack must be passed as a \"sequence\" type such as list or tuple. Support for non-sequence iterables such as generators is deprecated as of NumPy 1.16 and will raise an error in the future.\n",
            "  if self.run_code(code, result):\n"
          ],
          "name": "stderr"
        },
        {
          "output_type": "execute_result",
          "data": {
            "text/plain": [
              "(0.005720101, 0.2951066)"
            ]
          },
          "metadata": {
            "tags": []
          },
          "execution_count": 22
        }
      ]
    },
    {
      "cell_type": "code",
      "metadata": {
        "id": "CaxGLCEZ5BOb"
      },
      "source": [
        "word_index = tokenizer.word_index\n",
        "unknown_words = set()\n",
        "nb_words = min(max_features, len(word_index))\n",
        "embedding_matrix = np.random.normal(emb_mean, emb_std, (nb_words, embed_size))\n",
        "for word, i in word_index.items():\n",
        "    if i >= max_features: continue\n",
        "    embedding_vector = embeddings_index.get(word)\n",
        "    if embedding_vector is not None: embedding_matrix[i] = embedding_vector\n",
        "    else: unknown_words.add(word)"
      ],
      "execution_count": null,
      "outputs": []
    },
    {
      "cell_type": "code",
      "metadata": {
        "id": "vjQ2SWu8OoV3"
      },
      "source": [
        "from keras import backend as K\n",
        "\n",
        "def auc(y_true, y_pred):\n",
        "  auc=tf.metrics.auc(y_true, y_pred)[1]\n",
        "  K.get_session().run(tf.local_variables_initializer())\n",
        "  return auc"
      ],
      "execution_count": null,
      "outputs": []
    },
    {
      "cell_type": "code",
      "metadata": {
        "id": "T9K24OtJYjId"
      },
      "source": [
        "del x_train, x_test, y_train"
      ],
      "execution_count": null,
      "outputs": []
    },
    {
      "cell_type": "code",
      "metadata": {
        "id": "K76XLuCP5Msc",
        "colab": {
          "base_uri": "https://localhost:8080/",
          "height": 1000
        },
        "outputId": "fe0f7697-feda-4e53-dac9-36c91a492d34"
      },
      "source": [
        "import tensorflow as tf\n",
        "input_layer = Input((maxlen,), name = 'reviews')\n",
        "embedding_layer = Embedding(max_features, embed_size, input_length=maxlen, \n",
        "                            weights=[embedding_matrix], \n",
        "                            trainable = False)(input_layer)\n",
        "x = Bidirectional(GRU(128, return_sequences=True))(embedding_layer)\n",
        "x = Dropout(0.3)(x)\n",
        "x = Bidirectional(GRU(128, return_sequences=False))(x)\n",
        "x = Dense(64, activation=\"relu\")(x)\n",
        "output_layer = Dense(1, activation=\"sigmoid\")(x)\n",
        "\n",
        "model = Model(inputs=input_layer, outputs=output_layer)\n",
        "model.compile(loss='binary_crossentropy',\n",
        "                  optimizer=Adam(clipvalue=1, clipnorm=1),\n",
        "                  metrics=[auc])\n",
        "print(model.summary())\n",
        "\n",
        "def schedule(ind):\n",
        "    a = [0.001, 0.001, 0.0001, 0.0001, 0.00001, 0.00001, 0.000001]\n",
        "    return a[ind]\n",
        "\n",
        "lr = LearningRateScheduler(schedule)\n",
        "    \n",
        "early_stop = EarlyStopping(monitor='val_loss',\n",
        "                           patience=4,\n",
        "                           verbose=1,\n",
        "                           min_delta=1e-4)\n",
        "\n",
        "\n",
        "history = model.fit(x_train_pad, y, batch_size=256, epochs = 7, \n",
        "                    validation_split = 0.1, verbose = 1, callbacks = [lr])"
      ],
      "execution_count": null,
      "outputs": [
        {
          "output_type": "stream",
          "text": [
            "WARNING:tensorflow:From /usr/local/lib/python3.6/dist-packages/keras/backend/tensorflow_backend.py:541: The name tf.placeholder is deprecated. Please use tf.compat.v1.placeholder instead.\n",
            "\n",
            "WARNING:tensorflow:From /usr/local/lib/python3.6/dist-packages/keras/backend/tensorflow_backend.py:66: The name tf.get_default_graph is deprecated. Please use tf.compat.v1.get_default_graph instead.\n",
            "\n",
            "WARNING:tensorflow:From /usr/local/lib/python3.6/dist-packages/keras/backend/tensorflow_backend.py:4432: The name tf.random_uniform is deprecated. Please use tf.random.uniform instead.\n",
            "\n",
            "WARNING:tensorflow:From /usr/local/lib/python3.6/dist-packages/keras/backend/tensorflow_backend.py:190: The name tf.get_default_session is deprecated. Please use tf.compat.v1.get_default_session instead.\n",
            "\n",
            "WARNING:tensorflow:From /usr/local/lib/python3.6/dist-packages/keras/backend/tensorflow_backend.py:197: The name tf.ConfigProto is deprecated. Please use tf.compat.v1.ConfigProto instead.\n",
            "\n",
            "WARNING:tensorflow:From /usr/local/lib/python3.6/dist-packages/keras/backend/tensorflow_backend.py:203: The name tf.Session is deprecated. Please use tf.compat.v1.Session instead.\n",
            "\n",
            "WARNING:tensorflow:From /usr/local/lib/python3.6/dist-packages/keras/backend/tensorflow_backend.py:207: The name tf.global_variables is deprecated. Please use tf.compat.v1.global_variables instead.\n",
            "\n",
            "WARNING:tensorflow:From /usr/local/lib/python3.6/dist-packages/keras/backend/tensorflow_backend.py:216: The name tf.is_variable_initialized is deprecated. Please use tf.compat.v1.is_variable_initialized instead.\n",
            "\n",
            "WARNING:tensorflow:From /usr/local/lib/python3.6/dist-packages/keras/backend/tensorflow_backend.py:223: The name tf.variables_initializer is deprecated. Please use tf.compat.v1.variables_initializer instead.\n",
            "\n",
            "WARNING:tensorflow:From /usr/local/lib/python3.6/dist-packages/keras/backend/tensorflow_backend.py:148: The name tf.placeholder_with_default is deprecated. Please use tf.compat.v1.placeholder_with_default instead.\n",
            "\n",
            "WARNING:tensorflow:From /usr/local/lib/python3.6/dist-packages/keras/backend/tensorflow_backend.py:3733: calling dropout (from tensorflow.python.ops.nn_ops) with keep_prob is deprecated and will be removed in a future version.\n",
            "Instructions for updating:\n",
            "Please use `rate` instead of `keep_prob`. Rate should be set to `rate = 1 - keep_prob`.\n",
            "WARNING:tensorflow:From /usr/local/lib/python3.6/dist-packages/keras/optimizers.py:793: The name tf.train.Optimizer is deprecated. Please use tf.compat.v1.train.Optimizer instead.\n",
            "\n",
            "WARNING:tensorflow:From /usr/local/lib/python3.6/dist-packages/keras/backend/tensorflow_backend.py:3657: The name tf.log is deprecated. Please use tf.math.log instead.\n",
            "\n",
            "WARNING:tensorflow:From /usr/local/lib/python3.6/dist-packages/tensorflow_core/python/ops/nn_impl.py:183: where (from tensorflow.python.ops.array_ops) is deprecated and will be removed in a future version.\n",
            "Instructions for updating:\n",
            "Use tf.where in 2.0, which has the same broadcast rule as np.where\n",
            "WARNING:tensorflow:From /usr/local/lib/python3.6/dist-packages/tensorflow_core/python/ops/metrics_impl.py:808: div (from tensorflow.python.ops.math_ops) is deprecated and will be removed in a future version.\n",
            "Instructions for updating:\n",
            "Deprecated in favor of operator or tf.math.divide.\n",
            "Model: \"model_1\"\n",
            "_________________________________________________________________\n",
            "Layer (type)                 Output Shape              Param #   \n",
            "=================================================================\n",
            "reviews (InputLayer)         (None, 20)                0         \n",
            "_________________________________________________________________\n",
            "embedding_1 (Embedding)      (None, 20, 300)           3000000   \n",
            "_________________________________________________________________\n",
            "bidirectional_1 (Bidirection (None, 20, 256)           329472    \n",
            "_________________________________________________________________\n",
            "dropout_1 (Dropout)          (None, 20, 256)           0         \n",
            "_________________________________________________________________\n",
            "bidirectional_2 (Bidirection (None, 256)               295680    \n",
            "_________________________________________________________________\n",
            "dense_1 (Dense)              (None, 64)                16448     \n",
            "_________________________________________________________________\n",
            "dense_2 (Dense)              (None, 1)                 65        \n",
            "=================================================================\n",
            "Total params: 3,641,665\n",
            "Trainable params: 641,665\n",
            "Non-trainable params: 3,000,000\n",
            "_________________________________________________________________\n",
            "None\n",
            "WARNING:tensorflow:From /usr/local/lib/python3.6/dist-packages/keras/backend/tensorflow_backend.py:1033: The name tf.assign_add is deprecated. Please use tf.compat.v1.assign_add instead.\n",
            "\n",
            "WARNING:tensorflow:From /usr/local/lib/python3.6/dist-packages/keras/backend/tensorflow_backend.py:1020: The name tf.assign is deprecated. Please use tf.compat.v1.assign instead.\n",
            "\n",
            "Train on 3240000 samples, validate on 360000 samples\n",
            "Epoch 1/7\n",
            "3240000/3240000 [==============================] - 1076s 332us/step - loss: 0.3033 - auc: 0.9314 - val_loss: 0.2746 - val_auc: 0.9431\n",
            "Epoch 2/7\n",
            "3240000/3240000 [==============================] - 1079s 333us/step - loss: 0.2751 - auc: 0.9463 - val_loss: 0.2692 - val_auc: 0.9483\n",
            "Epoch 3/7\n",
            "3240000/3240000 [==============================] - 1077s 332us/step - loss: 0.2569 - auc: 0.9504 - val_loss: 0.2637 - val_auc: 0.9520\n",
            "Epoch 4/7\n",
            "3240000/3240000 [==============================] - 1078s 333us/step - loss: 0.2519 - auc: 0.9532 - val_loss: 0.2636 - val_auc: 0.9542\n",
            "Epoch 5/7\n",
            "1790976/3240000 [===============>..............] - ETA: 7:43 - loss: 0.2479 - auc: 0.9546Buffered data was truncated after reaching the output size limit."
          ],
          "name": "stdout"
        }
      ]
    },
    {
      "cell_type": "code",
      "metadata": {
        "id": "r8R0v6BWud8_"
      },
      "source": [
        "ind = np.arange(1, x_test_pad.shape[0]+1)"
      ],
      "execution_count": null,
      "outputs": []
    },
    {
      "cell_type": "code",
      "metadata": {
        "id": "buaNcywFsJcl"
      },
      "source": [
        "predicted_probs = model.predict(x_test_pad,batch_size = 1024)"
      ],
      "execution_count": null,
      "outputs": []
    },
    {
      "cell_type": "code",
      "metadata": {
        "id": "s_eWbJ87WLMC"
      },
      "source": [
        "ind = np.arange(1, x_test_pad.shape[0]+1)\n",
        "predictions = pd.DataFrame(ind, columns = ['Id'])\n",
        "predictions[\"Probability\"]= predicted_probs"
      ],
      "execution_count": null,
      "outputs": []
    },
    {
      "cell_type": "code",
      "metadata": {
        "id": "Az4lmhJs4Z0I"
      },
      "source": [
        "predictions.to_csv(\"submission_not_full.csv\", index=False)"
      ],
      "execution_count": null,
      "outputs": []
    }
  ]
}